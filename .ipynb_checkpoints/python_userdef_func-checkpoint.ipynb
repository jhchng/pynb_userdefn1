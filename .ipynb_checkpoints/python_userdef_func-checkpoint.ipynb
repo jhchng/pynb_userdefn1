{
 "cells": [
  {
   "cell_type": "code",
   "execution_count": 5,
   "id": "2f708105-e6ac-40c1-9946-92dbf446ece3",
   "metadata": {},
   "outputs": [],
   "source": [
    "import os\n",
    "import datetime as dt"
   ]
  },
  {
   "cell_type": "markdown",
   "id": "ea312a70-1608-456d-bc6d-09a25150736b",
   "metadata": {},
   "source": [
    "1. define greet function"
   ]
  },
  {
   "cell_type": "code",
   "execution_count": 7,
   "id": "fc70a5c5-0fa8-43aa-875a-d50fc7447879",
   "metadata": {},
   "outputs": [],
   "source": [
    "def greet():\n",
    "    print(\"Hello, world!\")"
   ]
  },
  {
   "cell_type": "markdown",
   "id": "2d0ea9e4-848e-43af-8643-7295b15d5d65",
   "metadata": {},
   "source": [
    "2. execute greet function"
   ]
  },
  {
   "cell_type": "code",
   "execution_count": 9,
   "id": "b4c226de-2feb-435d-b723-b45855e085f6",
   "metadata": {},
   "outputs": [
    {
     "name": "stdout",
     "output_type": "stream",
     "text": [
      "Hello, world!\n"
     ]
    }
   ],
   "source": [
    "greet()"
   ]
  },
  {
   "cell_type": "markdown",
   "id": "0750de64-fbd1-44eb-bfc8-9d5948aae360",
   "metadata": {},
   "source": [
    "3. Add a user defined function to an existing program and use it"
   ]
  },
  {
   "cell_type": "code",
   "execution_count": 19,
   "id": "a68209d4-1177-4de3-92ab-d6b8d8e02fbd",
   "metadata": {},
   "outputs": [
    {
     "name": "stdout",
     "output_type": "stream",
     "text": [
      "Value of sum: 11\n"
     ]
    }
   ],
   "source": [
    "a=5\n",
    "b=6\n",
    "sum = a + b\n",
    "\n",
    "print(f\"Value of sum: {sum}\")"
   ]
  },
  {
   "cell_type": "code",
   "execution_count": null,
   "id": "7265b400-d14a-49c6-8e5e-c06806edf788",
   "metadata": {},
   "outputs": [],
   "source": []
  },
  {
   "cell_type": "code",
   "execution_count": 25,
   "id": "0cc9c236-56ef-41e4-a3e1-454f7df132af",
   "metadata": {},
   "outputs": [
    {
     "name": "stdout",
     "output_type": "stream",
     "text": [
      "Row:[1, 2, 3]\n",
      "1\n",
      "2\n",
      "3\n",
      "Row:[4, 5, '']\n",
      "4\n",
      "5\n",
      "\n",
      "Row:[1, 2, 3]\n",
      "1\n",
      "2\n",
      "3\n",
      "Row:[4, 5, 6]\n",
      "4\n",
      "5\n",
      "6\n",
      "Row:[7, 8, 9]\n",
      "7\n",
      "8\n",
      "9\n",
      "0, 1\n"
     ]
    }
   ],
   "source": [
    "# Define the user function that accepts a matrix and checks for empty elements\n",
    "def check_matrix(matrix):\n",
    "    for row in matrix:\n",
    "        print(f\"Row:{row}\")\n",
    "        for element in row:\n",
    "            print(f\"{element}\")\n",
    "            if element == \"\":  # Check if the element is an empty string\n",
    "                return 0  # If any element is empty, return 0\n",
    "    return 1  # If no element is empty, return 1\n",
    "\n",
    "# Testing the function with example matrices\n",
    "matrix_with_empty = [\n",
    "    [1, 2, 3],\n",
    "    [4, 5, \"\"],  # This matrix contains an empty string\n",
    "    [7, 8, 9]\n",
    "]\n",
    "\n",
    "matrix_without_empty = [\n",
    "    [1, 2, 3],\n",
    "    [4, 5, 6],\n",
    "    [7, 8, 9]  # This matrix does not contain any empty strings\n",
    "]\n",
    "\n",
    "# Test cases\n",
    "check_result_1 = check_matrix(matrix_with_empty)\n",
    "check_result_2 = check_matrix(matrix_without_empty)\n",
    "\n",
    "print(f\"{check_result_1}, {check_result_2}\")\n"
   ]
  },
  {
   "cell_type": "code",
   "execution_count": null,
   "id": "02ea9d58-5009-4e2e-90a4-eb47dda8a110",
   "metadata": {},
   "outputs": [],
   "source": []
  }
 ],
 "metadata": {
  "kernelspec": {
   "display_name": "Python 3 (ipykernel)",
   "language": "python",
   "name": "python3"
  },
  "language_info": {
   "codemirror_mode": {
    "name": "ipython",
    "version": 3
   },
   "file_extension": ".py",
   "mimetype": "text/x-python",
   "name": "python",
   "nbconvert_exporter": "python",
   "pygments_lexer": "ipython3",
   "version": "3.12.4"
  }
 },
 "nbformat": 4,
 "nbformat_minor": 5
}
