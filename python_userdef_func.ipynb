{
 "cells": [
  {
   "cell_type": "markdown",
   "id": "747efceb-7007-4b45-b3f8-7eb3e86da8c8",
   "metadata": {},
   "source": [
    "<h2>User-Defined Functions in Python</h2>"
   ]
  },
  {
   "cell_type": "markdown",
   "id": "8c5a6dc7-b99e-4cab-9664-c7c6dccfdf55",
   "metadata": {},
   "source": [
    "<hr>\n",
    "\n",
    "<h3>1. Engage</h3>\n",
    "<p><b>Purpose:</b> Capture students' interest in functions and assess their prior knowledge of Python.</p>\n",
    "<p><b>Activity:</b></p>\n",
    "<ul>\n",
    "    <li>Start with a relatable, real-world analogy of functions (e.g., compare functions to a \"recipe\").</li>\n",
    "    <li>Pose an open-ended question: \"How can we write a piece of code once and use it multiple times without repeating it?\"</li>\n",
    "    <li>Show a quick demo of a simple function to spark curiosity:</li>\n",
    "</ul>\n",
    "<pre>\n",
    "def greet():\n",
    "    print(\"Hello, world!\")\n",
    "greet()\n",
    "</pre>\n",
    "<p><b>Goal:</b> Get students curious about how Python functions can make coding more efficient and avoid redundancy.</p>\n"
   ]
  },
  {
   "cell_type": "code",
   "execution_count": 61,
   "id": "9539217b-73e9-4db8-8b8d-d5dc058cb85f",
   "metadata": {},
   "outputs": [
    {
     "name": "stdout",
     "output_type": "stream",
     "text": [
      "Hello, world!\n"
     ]
    }
   ],
   "source": [
    "def greet():\n",
    "    print(\"Hello, world!\")\n",
    "    \n",
    "greet()"
   ]
  },
  {
   "cell_type": "markdown",
   "id": "ea3a3e7f-dee2-4867-bb5d-708da97f78e9",
   "metadata": {},
   "source": [
    "<hr>\n",
    "\n",
    "<h3>2. Explore</h3>\n",
    "<p><b>Purpose:</b> Allow students to investigate user-defined functions hands-on.</p>\n",
    "<p><b>Activity:</b></p>\n",
    "<ul>\n",
    "    <li>Have students work in pairs or groups to explore simple functions by writing code that defines and calls functions with parameters.</li>\n",
    "    <li>Provide tasks such as:</li>\n",
    "    <ul>\n",
    "        <li>Write a function to add two numbers.</li>\n",
    "        <li>Write a function that returns the square of a number.</li>\n",
    "    </ul>\n",
    "    <li>Encourage experimentation with parameters and return values:</li>\n",
    "</ul>\n",
    "<pre>\n",
    "def add_numbers(a, b):\n",
    "    return a + b\n",
    "result = add_numbers(3, 5)\n",
    "print(result)\n",
    "</pre>\n",
    "<p><b>Goal:</b> Let students experience the syntax and behavior of user-defined functions.</p>\n",
    "\n",
    "<hr>\n",
    "\n",
    "\n"
   ]
  },
  {
   "cell_type": "code",
   "execution_count": 45,
   "id": "33f5a021-c5db-40d8-99d8-c029565a5ad8",
   "metadata": {},
   "outputs": [],
   "source": [
    "def add_numbers(a, b):\n",
    "    return a + b\n",
    "    \n",
    "result = add_numbers(3, 5)"
   ]
  },
  {
   "cell_type": "markdown",
   "id": "26360d8d-d7a1-49e0-a1c6-50a1a3d1c86e",
   "metadata": {},
   "source": [
    "<hr>\n",
    "\n",
    "<h3>3. Explain</h3>\n",
    "<p><b>Purpose:</b> Help students make sense of their discoveries and connect them to formal concepts in Python.</p>\n",
    "<p><b>Activity:</b></p>\n",
    "<ul>\n",
    "    <li>Facilitate a class discussion where students share their findings and explain the purpose of functions.</li>\n",
    "    <li>Introduce formal definitions: function definition (<code>def</code> keyword), parameters, arguments, return values, and scope.</li>\n",
    "    <li>Provide examples to explain key concepts:</li>\n",
    "</ul>\n",
    "<pre>\n",
    "def greet_person(name):\n",
    "    return f\"Hello, {name}!\"\n",
    "print(greet_person(\"Alice\"))\n",
    "</pre>\n",
    "<p><b>Goal:</b> Solidify students' understanding of how functions work in Python, both syntactically and conceptually.</p>\n"
   ]
  },
  {
   "cell_type": "code",
   "execution_count": null,
   "id": "720df454-26fb-466d-9702-2276af37fa44",
   "metadata": {},
   "outputs": [],
   "source": [
    "def greet_person(name):\n",
    "    return f\"Hello, {name}!\"\n",
    "    \n",
    "print(greet_person(\"Alice\"))"
   ]
  },
  {
   "cell_type": "markdown",
   "id": "7606d11f-1ae7-42dd-8839-2b09b9dc7256",
   "metadata": {},
   "source": [
    "<hr>\n",
    "\n",
    "<h3>4. Elaborate</h3>\n",
    "<p><b>Purpose:</b> Extend students' understanding by applying it to more complex and varied problems.</p>\n",
    "<p><b>Activity:</b></p>\n",
    "<ul>\n",
    "    <li>Challenge students to apply their knowledge of functions to larger problems, such as:</li>\n",
    "    <ul>\n",
    "        <li>Write a function that takes a list of numbers and returns the sum.</li>\n",
    "        <li>Create a function that checks if a number is prime.</li>\n",
    "        <li>Build a simple calculator using functions.</li>\n",
    "    </ul>\n",
    "</ul>\n",
    "<pre>\n",
    "def is_prime(num):\n",
    "    if num < 2:\n",
    "        return False\n",
    "    for i in range(2, num):\n",
    "        if num % i == 0:\n",
    "            return False\n",
    "    return True\n",
    "print(is_prime(7))  # True\n",
    "</pre>\n",
    "<p><b>Goal:</b> Allow students to expand their skills by solving more complex, real-world problems using user-defined functions.</p>\n"
   ]
  },
  {
   "cell_type": "code",
   "execution_count": null,
   "id": "68420873-d353-41cd-97b3-f073a7cc5207",
   "metadata": {},
   "outputs": [],
   "source": [
    "def is_prime(num):\n",
    "    if num < 2:\n",
    "        return False\n",
    "    for i in range(2, num):\n",
    "        if num % i == 0:\n",
    "            return False\n",
    "    return True\n",
    "print(is_prime(7))  # True"
   ]
  },
  {
   "cell_type": "markdown",
   "id": "7b663bac-478d-4a42-a1fe-a2631e19bf5d",
   "metadata": {},
   "source": [
    "<hr>\n",
    "\n",
    "<h3>5. Evaluate</h3>\n",
    "<p><b>Purpose:</b> Assess students’ understanding of user-defined functions and their ability to apply them.</p>\n",
    "<p><b>Activity:</b></p>\n",
    "<ul>\n",
    "    <li>Have students complete a project that involves writing multiple functions, such as a program that calculates the total price of items in a shopping cart.</li>\n",
    "    <li>Conduct a quiz to assess key concepts (e.g., writing, calling functions, return values).</li>\n",
    "    <li>Provide feedback on their code and assess their understanding of reusability and efficiency.</li>\n",
    "</ul>\n",
    "<p><b>Goal:</b> Evaluate students’ proficiency in using user-defined functions and applying this knowledge to practical scenarios.</p>\n",
    "\n"
   ]
  },
  {
   "cell_type": "code",
   "execution_count": 56,
   "id": "26f49e28-4270-4669-9636-832be4013e37",
   "metadata": {},
   "outputs": [],
   "source": [
    "#Learners to try and write code here"
   ]
  },
  {
   "cell_type": "markdown",
   "id": "acb099b1-fb3b-4880-b334-79dfd0f600c5",
   "metadata": {},
   "source": [
    "<hr>\n",
    "\n",
    "<h2>Summary:</h2>\n",
    "<ul>\n",
    "    <li><b>Engage:</b> Start with real-world analogies and questions to capture interest.</li>\n",
    "    <li><b>Explore:</b> Allow hands-on experimentation with simple function tasks.</li>\n",
    "    <li><b>Explain:</b> Formalize the concepts and provide structured explanations of syntax and use.</li>\n",
    "    <li><b>Elaborate:</b> Encourage application of functions in solving more complex problems.</li>\n",
    "    <li><b>Evaluate:</b> Assess understanding through projects, quizzes, and feedback on their function implementation.</li>\n",
    "</ul>"
   ]
  },
  {
   "cell_type": "code",
   "execution_count": null,
   "id": "f9e702fb-5eae-4092-ae87-2303a6d10c3a",
   "metadata": {},
   "outputs": [],
   "source": []
  }
 ],
 "metadata": {
  "kernelspec": {
   "display_name": "Python 3 (ipykernel)",
   "language": "python",
   "name": "python3"
  },
  "language_info": {
   "codemirror_mode": {
    "name": "ipython",
    "version": 3
   },
   "file_extension": ".py",
   "mimetype": "text/x-python",
   "name": "python",
   "nbconvert_exporter": "python",
   "pygments_lexer": "ipython3",
   "version": "3.12.4"
  }
 },
 "nbformat": 4,
 "nbformat_minor": 5
}
